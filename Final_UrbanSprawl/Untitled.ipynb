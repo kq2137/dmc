{
 "cells": [
  {
   "cell_type": "code",
   "execution_count": 19,
   "metadata": {
    "collapsed": true
   },
   "outputs": [],
   "source": [
    "from mpl_toolkits.mplot3d import Axes3D\n",
    "import matplotlib.pyplot as plt\n",
    "import matplotlib.colors as colors\n",
    "import numpy as np\n",
    "from matplotlib import cm\n",
    "import matplotlib as mpl\n",
    "from matplotlib.pyplot import imshow"
   ]
  },
  {
   "cell_type": "code",
   "execution_count": 22,
   "metadata": {
    "collapsed": false
   },
   "outputs": [
    {
     "data": {
      "text/plain": [
       "(-0.5, 2.5, -0.5, 3.5)"
      ]
     },
     "execution_count": 22,
     "metadata": {},
     "output_type": "execute_result"
    }
   ],
   "source": [
    "a=[[32,32,0], [32,32,1], [32,32,2], [32,32,3]]\n",
    "\n",
    "#b=0.00\n",
    "#for b in range(8): \n",
    "      #a[b]= a[b]/255.0\n",
    "      #print a[b]\n",
    "      #b+=1.00\n",
    "#matplotlib.colors.rgb2hex(rgb)\n",
    "#norm = mpl.colors.Normalize(vmin=-1.,vmax=1.)\n",
    "imshow(a, 'gray', origin='lower')\n",
    "plt.axis('off')\n",
    "        \n",
    "#norm = plt.Normalize()\n",
    "#colors = plt.cm.jet(norm(a))\n",
    "    "
   ]
  }
 ],
 "metadata": {
  "kernelspec": {
   "display_name": "Python [default]",
   "language": "python",
   "name": "python2"
  },
  "language_info": {
   "codemirror_mode": {
    "name": "ipython",
    "version": 2
   },
   "file_extension": ".py",
   "mimetype": "text/x-python",
   "name": "python",
   "nbconvert_exporter": "python",
   "pygments_lexer": "ipython2",
   "version": "2.7.12"
  }
 },
 "nbformat": 4,
 "nbformat_minor": 1
}
